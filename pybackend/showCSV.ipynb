{
 "cells": [
  {
   "cell_type": "code",
   "execution_count": 1,
   "metadata": {},
   "outputs": [
    {
     "name": "stdout",
     "output_type": "stream",
     "text": [
      "       label                                             review\n",
      "0          0   \"Not If you want to listen to El Duke then it...\n",
      "1          0   \"didn't run off of USB bus power Was hoping t...\n",
      "2          0   \"Long and boring I've read this book with muc...\n",
      "3          1   \"Sony Hi8 Camcorder with 25 LCD I believe I w...\n",
      "4          1   \"Amazing love itvery touchit's to bad that in...\n",
      "...      ...                                                ...\n",
      "59994      1   \"Keeps wipes warm Like that it keeps wipes wa...\n",
      "59995      0   \"Idiotic Judgment Filled with hate and prejud...\n",
      "59996      1   \"JUST BEAUTIFUL BEAUTIFUL AND LOVED IT GOOD S...\n",
      "59997      0   \"horrible gun this gun broke the day i got it...\n",
      "59998      0   \"A Kids Review Great fun for back yard 10 fee...\n",
      "\n",
      "[59999 rows x 2 columns]\n"
     ]
    }
   ],
   "source": [
    "import pandas as pd\n",
    "\n",
    "# Read the CSV file into a DataFrame\n",
    "file_path = '60000.csv'  # Replace with the path to your CSV file\n",
    "df = pd.read_csv(file_path)\n",
    "\n",
    "# Display the DataFrame\n",
    "print(df)\n"
   ]
  }
 ],
 "metadata": {
  "kernelspec": {
   "display_name": "Python 3",
   "language": "python",
   "name": "python3"
  },
  "language_info": {
   "codemirror_mode": {
    "name": "ipython",
    "version": 3
   },
   "file_extension": ".py",
   "mimetype": "text/x-python",
   "name": "python",
   "nbconvert_exporter": "python",
   "pygments_lexer": "ipython3",
   "version": "3.11.9"
  }
 },
 "nbformat": 4,
 "nbformat_minor": 2
}
